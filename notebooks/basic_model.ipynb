{
  "nbformat": 4,
  "nbformat_minor": 0,
  "metadata": {
    "colab": {
      "name": "basic_model.ipynb",
      "provenance": [],
      "collapsed_sections": []
    },
    "kernelspec": {
      "name": "python3",
      "display_name": "Python 3"
    },
    "accelerator": "GPU"
  },
  "cells": [
    {
      "cell_type": "code",
      "metadata": {
        "id": "LVLE6fzffmJk",
        "colab_type": "code",
        "colab": {}
      },
      "source": [
        "import tensorflow as tf\n",
        "from tensorflow import keras\n",
        "from tensorflow.keras import layers\n",
        "import matplotlib.pyplot as plt\n",
        "\n",
        "import numpy as np\n",
        "import unittest"
      ],
      "execution_count": 16,
      "outputs": []
    },
    {
      "cell_type": "code",
      "metadata": {
        "id": "KkZRwxkt9_G8",
        "colab_type": "code",
        "colab": {}
      },
      "source": [
        "class ResBlock(tf.keras.Model):\n",
        "  \"\"\" A ResBlock module class with expansion, depthwise convolution and \n",
        "  projection.\n",
        "\n",
        "  In this ResBlock, standard 2D convolutions are replaced by 1x1 convolution \n",
        "  that expands the input tensor along the channel dimension, depthwise\n",
        "  convolution and 1x1 convolution that projects the tensor back to the original\n",
        "  number of channels.\n",
        "\n",
        "   Args: \n",
        "     kernel_size: size of the depthwise convolution kernel\n",
        "     expansion_factor: expansion factor of the first 1x1 convolution. \n",
        "     e.g., if the input tensor has N channels, then the first 1x1 \n",
        "     convolution layer will expand it to expansion_factor*N channels.\n",
        "     activation: activation function. Supported functions: 'relu',\n",
        "     'relu6', 'lrelu', 'swish'.\"\"\"\n",
        "\n",
        "  def __init__(self, kernel_size=3, expansion_factor=6, activation='relu'):\n",
        "    super(ResBlock, self).__init__(name='')\n",
        "    if expansion_factor < 1:\n",
        "      raise ValueError('The expansion factor value should be '\n",
        "      'greater than or equal to one.')\n",
        "\n",
        "    self.expansion_factor = expansion_factor\n",
        "    self.activation = self.set_activation_fn(activation)\n",
        "    self.kernel_size = kernel_size\n",
        "\n",
        "  def build(self, input_shape):\n",
        "    input_channel = input_shape[-1]\n",
        "    self.expanded_channel = input_channel*self.expansion_factor\n",
        "    self.conv1 = tf.keras.layers.Conv2D(self.expanded_channel, kernel_size=1,\n",
        "                                        strides=(1, 1), padding='same')\n",
        "    self.bn1 = tf.keras.layers.BatchNormalization() \n",
        "    self.conv2 = tf.keras.layers.DepthwiseConv2D(kernel_size=self.kernel_size,\n",
        "                                                 strides=(1, 1), padding='same')\n",
        "    self.bn2 = tf.keras.layers.BatchNormalization()\n",
        "    self.conv3 = tf.keras.layers.Conv2D(input_channel, kernel_size=1,\n",
        "                                        strides=(1, 1), padding='same')\n",
        "    self.bn3 = tf.keras.layers.BatchNormalization()\n",
        "\n",
        "  def call(self, input_tensor, training=True):\n",
        "    x = self.conv1(input_tensor)\n",
        "    x = self.bn1(x, training=training)\n",
        "    x = self.activation(x)\n",
        "\n",
        "    x = self.conv2(x)\n",
        "    x = self.bn2(x, training=training)\n",
        "    x = self.activation(x)\n",
        "\n",
        "    x = self.conv3(x)\n",
        "    x = self.bn3(x, training=training)\n",
        "    x += input_tensor\n",
        "    return x\n",
        "\n",
        "\n",
        "  def set_activation_fn(self, activation):\n",
        "    switcher = {'relu': tf.nn.relu,\n",
        "                'relu6': tf.nn.relu6,\n",
        "                'lrelu': tf.nn.leaky_relu,\n",
        "                'swish': tf.nn.swish}\n",
        "    \n",
        "    res = switcher.get(activation)\n",
        "    if not res:\n",
        "      raise Exception(\"Given activation function is not supported.\")\n",
        "    return res\n",
        "\n",
        "  def _get_input_channel(self, input_shape):\n",
        "    if input_shape.dims[-1].value is None:\n",
        "      raise ValueError('The channel dimension of the inputs '\n",
        "                       'should be defined. Found `None`.')\n",
        "    return int(input_shape[-1])"
      ],
      "execution_count": 17,
      "outputs": []
    },
    {
      "cell_type": "markdown",
      "metadata": {
        "id": "EYCSozXYhIvR",
        "colab_type": "text"
      },
      "source": [
        "# Input adapter\n",
        "This model transforms the input image into tenfor of desired shape (in our setup 16x16x40)."
      ]
    },
    {
      "cell_type": "code",
      "metadata": {
        "id": "nJlxo9f7f5BP",
        "colab_type": "code",
        "colab": {}
      },
      "source": [
        "def create_input_adapter(input_shape, size=16, depth=40, activation=None):\n",
        "  \"\"\"Creates an input adapter module for the input image.\n",
        "  The input adapter transforms input image of given shape \n",
        "  into a tensor of target shape.\n",
        "\n",
        "  Arguments: \n",
        "    input_shape: shape of input image (HxWxC). Image width and height \n",
        "      must be devidible by size. H*W*C must be less than or equal\n",
        "      to size*size*depth.\n",
        "    size: height and width of the output tensor after space2depth operation. \n",
        "    depth: number of channels in the output tensor.\n",
        "    activation: conv layer activation function.\"\"\"\n",
        "  h, w, c = input_shape\n",
        "  if h < size or w < size:\n",
        "    raise ValueError('Input height and width should be greater than `size`.')\n",
        "  # `block_size` of space2depth\n",
        "  block_size = min(h / size, w / size)\n",
        "  if depth % (block_size * block_size) != 0:\n",
        "    raise ValueError('depth value is not devisible by the computed block size') \n",
        "  \n",
        "  # creating an adapter model\n",
        "  inputs = keras.Input(shape=input_shape)\n",
        "  s2d = tf.nn.space_to_depth(inputs, block_size)\n",
        "  outputs = layers.Conv2D(filters=depth,\n",
        "                          kernel_size=1, activation=activation)(s2d)\n",
        "  model = keras.Model(inputs, outputs, name='in_adapter')\n",
        "  return model"
      ],
      "execution_count": 18,
      "outputs": []
    },
    {
      "cell_type": "markdown",
      "metadata": {
        "id": "AomVWLNQRth_",
        "colab_type": "text"
      },
      "source": [
        "# Output adapter"
      ]
    },
    {
      "cell_type": "code",
      "metadata": {
        "id": "299hzdXmRsiC",
        "colab_type": "code",
        "colab": {}
      },
      "source": [
        "def create_output_adapter(input_shape, block_size=None, pool_stride=None,\n",
        "                        activation='swish', depthwise=True):\n",
        "  \"\"\" Creates an output adapter module that processes tensors before \n",
        "  passing them to fully connected layers.\n",
        "\n",
        "  Arguments: \n",
        "    input_shape: shape of the input tensor (HxWxC).\n",
        "    block_size: tensor height and width after average pooling. Default \n",
        "    value is 4.\n",
        "    pool_stride: stride of average pooling.\n",
        "    activation: activation function.\n",
        "    depthwise: whether to use depthwise convolution.\"\"\"\n",
        "  if not block_size: \n",
        "    block_size = 4\n",
        "  \n",
        "  if not isinstance(block_size, int) or block_size < 1:\n",
        "    raise ValueError(\"block_size must be a positive integer.\")\n",
        "\n",
        "  if pool_stride != None and (not isinstance(pool_stride, int) or\n",
        "                              pool_stride < 1):\n",
        "    raise ValueError(\"pool_stride be a positive integer or None.\")\n",
        "  \n",
        "  if len(input_shape) != 3:\n",
        "    raise ValueError(\"input_shape must be a tuple of size 3.\")\n",
        "\n",
        "  h, w, _ = input_shape\n",
        "  inputs = keras.Input(shape=input_shape)\n",
        "  kernel_size = (np.ceil(h / float(block_size)),\n",
        "                 np.ceil(w / float(block_size)))\n",
        "\n",
        "  x = tf.keras.layers.AveragePooling2D(pool_size=kernel_size, \n",
        "                                       strides=pool_stride,\n",
        "                                       padding='valid')(inputs)\n",
        "\n",
        "  if depthwise:\n",
        "    x = tf.keras.layers.DepthwiseConv2D(kernel_size=1,\n",
        "                                        activation=activation)(x)\n",
        "  else:\n",
        "    x = tf.keras.layers.Activation(activation)(x)\n",
        "  \n",
        "  outputs = tf.keras.layers.Flatten(data_format='channels_last')(x)\n",
        "  model = keras.Model(inputs, outputs, name='out_adapter')\n",
        "  return model"
      ],
      "execution_count": 19,
      "outputs": []
    },
    {
      "cell_type": "markdown",
      "metadata": {
        "id": "hL-53Gio2rQ_",
        "colab_type": "text"
      },
      "source": [
        "# Preparing the data"
      ]
    },
    {
      "cell_type": "code",
      "metadata": {
        "id": "zOk9t5yzOJjY",
        "colab_type": "code",
        "colab": {}
      },
      "source": [
        "h, w, c = (32, 32, 3)\n",
        "BATCH_SIZE = 64"
      ],
      "execution_count": 20,
      "outputs": []
    },
    {
      "cell_type": "code",
      "metadata": {
        "id": "G5sYFCcE-S7z",
        "colab_type": "code",
        "colab": {}
      },
      "source": [
        "(x_train, y_train), (x_test, y_test) = tf.keras.datasets.cifar10.load_data()"
      ],
      "execution_count": 21,
      "outputs": []
    },
    {
      "cell_type": "code",
      "metadata": {
        "id": "S5tCwUXi-V38",
        "colab_type": "code",
        "colab": {
          "base_uri": "https://localhost:8080/",
          "height": 36
        },
        "outputId": "ec55a71a-b5ae-4729-fb27-9403f57a1ea6"
      },
      "source": [
        "train_dataset = (tf.data.Dataset.from_tensor_slices((x_train, y_train))\n",
        "                  .batch(BATCH_SIZE, drop_remainder=True)\n",
        "                  .shuffle(buffer_size=50000)).repeat()\n",
        "test_dataset = (tf.data.Dataset.from_tensor_slices((x_test, y_test))\n",
        "                  .batch(BATCH_SIZE, drop_remainder=True)).repeat()\n",
        "\n",
        "for image, label in test_dataset.take(1):\n",
        "    print(image.shape, label.shape)"
      ],
      "execution_count": 22,
      "outputs": [
        {
          "output_type": "stream",
          "text": [
            "(64, 32, 32, 3) (64, 1)\n"
          ],
          "name": "stdout"
        }
      ]
    },
    {
      "cell_type": "code",
      "metadata": {
        "id": "XTP4ySFB--wt",
        "colab_type": "code",
        "colab": {}
      },
      "source": [
        "def normalize(x, y):\n",
        "  if len(x.shape) == 3:\n",
        "    x = tf.expand_dims(x, axis=-1)\n",
        "  x = tf.image.per_image_standardization(x)\n",
        "  return x, y\n",
        "\n",
        "def augment(x, y):\n",
        "  if len(x.shape) == 3:\n",
        "    x = tf.expand_dims(x, axis=-1)\n",
        "  x = tf.image.resize_with_crop_or_pad(x, h + 8, w + 8)\n",
        "  x = tf.image.random_crop(x, [BATCH_SIZE, h, w, c])\n",
        "  x = tf.image.random_flip_left_right(x)\n",
        "  x = tf.image.random_brightness(x, max_delta=0.5)\n",
        "  return x, y\n",
        "\n",
        "test_dataset = test_dataset.map(normalize)\n",
        "train_dataset = (train_dataset\n",
        "                 .map(augment)\n",
        "                 .map(normalize))"
      ],
      "execution_count": 23,
      "outputs": []
    },
    {
      "cell_type": "markdown",
      "metadata": {
        "id": "6wpztL5U_H5a",
        "colab_type": "text"
      },
      "source": [
        "# Creating the model"
      ]
    },
    {
      "cell_type": "code",
      "metadata": {
        "id": "9ftZUSOW_C3H",
        "colab_type": "code",
        "colab": {}
      },
      "source": [
        "num_res_blocks = 10\n",
        "\n",
        "in_adapter = create_input_adapter((h, w, c),\n",
        "                                size=16, depth=40,\n",
        "                                activation=tf.nn.swish)\n",
        "out_adapter = create_output_adapter((16, 16, 40),\n",
        "                                  block_size=1, pool_stride=None,\n",
        "                                  activation=tf.nn.swish,\n",
        "                                  depthwise=True)\n",
        "\n",
        "model = tf.keras.Sequential()\n",
        "model.add(in_adapter)\n",
        "for _ in range(num_res_blocks):\n",
        "  block = ResBlock(kernel_size=3,\n",
        "                   expansion_factor=6, activation='swish')\n",
        "  model.add(block)\n",
        "model.add(out_adapter)\n",
        "model.add(layers.Dense(256, activation=tf.nn.swish))\n",
        "model.add(layers.Dropout(0.3))\n",
        "model.add(layers.Dense(10, activation='softmax'))\n"
      ],
      "execution_count": 25,
      "outputs": []
    },
    {
      "cell_type": "code",
      "metadata": {
        "id": "FuipDLsoBqzz",
        "colab_type": "code",
        "colab": {
          "base_uri": "https://localhost:8080/",
          "height": 727
        },
        "outputId": "0bddd56f-666f-4970-e3e5-a11dc050c722"
      },
      "source": [
        "model.summary()"
      ],
      "execution_count": 26,
      "outputs": [
        {
          "output_type": "stream",
          "text": [
            "Model: \"sequential_3\"\n",
            "_________________________________________________________________\n",
            "Layer (type)                 Output Shape              Param #   \n",
            "=================================================================\n",
            "in_adapter (Model)           (None, 16, 16, 40)        520       \n",
            "_________________________________________________________________\n",
            "res_block_30 (ResBlock)      (None, 16, 16, 40)        23960     \n",
            "_________________________________________________________________\n",
            "res_block_31 (ResBlock)      (None, 16, 16, 40)        23960     \n",
            "_________________________________________________________________\n",
            "res_block_32 (ResBlock)      (None, 16, 16, 40)        23960     \n",
            "_________________________________________________________________\n",
            "res_block_33 (ResBlock)      (None, 16, 16, 40)        23960     \n",
            "_________________________________________________________________\n",
            "res_block_34 (ResBlock)      (None, 16, 16, 40)        23960     \n",
            "_________________________________________________________________\n",
            "res_block_35 (ResBlock)      (None, 16, 16, 40)        23960     \n",
            "_________________________________________________________________\n",
            "res_block_36 (ResBlock)      (None, 16, 16, 40)        23960     \n",
            "_________________________________________________________________\n",
            "res_block_37 (ResBlock)      (None, 16, 16, 40)        23960     \n",
            "_________________________________________________________________\n",
            "res_block_38 (ResBlock)      (None, 16, 16, 40)        23960     \n",
            "_________________________________________________________________\n",
            "res_block_39 (ResBlock)      (None, 16, 16, 40)        23960     \n",
            "_________________________________________________________________\n",
            "out_adapter (Model)          (None, 40)                80        \n",
            "_________________________________________________________________\n",
            "dense_6 (Dense)              (None, 256)               10496     \n",
            "_________________________________________________________________\n",
            "dropout_3 (Dropout)          (None, 256)               0         \n",
            "_________________________________________________________________\n",
            "dense_7 (Dense)              (None, 10)                2570      \n",
            "=================================================================\n",
            "Total params: 253,266\n",
            "Trainable params: 242,866\n",
            "Non-trainable params: 10,400\n",
            "_________________________________________________________________\n"
          ],
          "name": "stdout"
        }
      ]
    },
    {
      "cell_type": "code",
      "metadata": {
        "id": "uxAxKtGpCYlG",
        "colab_type": "code",
        "colab": {
          "base_uri": "https://localhost:8080/",
          "height": 1000
        },
        "outputId": "0cc8ea25-c38b-4e5f-d8fc-820100245a5c"
      },
      "source": [
        "model.compile(optimizer=keras.optimizers.Adam(learning_rate=0.001),\n",
        "              loss='sparse_categorical_crossentropy',\n",
        "              metrics=['acc'])\n",
        "history = model.fit(train_dataset, epochs=30,\n",
        "                    steps_per_epoch=195,\n",
        "                    validation_data=test_dataset,\n",
        "                    validation_steps=3)"
      ],
      "execution_count": 27,
      "outputs": [
        {
          "output_type": "stream",
          "text": [
            "Epoch 1/30\n",
            "195/195 [==============================] - 14s 73ms/step - loss: 2.2922 - acc: 0.2440 - val_loss: 2.1017 - val_acc: 0.2031\n",
            "Epoch 2/30\n",
            "195/195 [==============================] - 14s 70ms/step - loss: 1.7459 - acc: 0.3485 - val_loss: 1.8901 - val_acc: 0.2656\n",
            "Epoch 3/30\n",
            "195/195 [==============================] - 14s 71ms/step - loss: 1.6518 - acc: 0.3817 - val_loss: 1.6862 - val_acc: 0.3229\n",
            "Epoch 4/30\n",
            "195/195 [==============================] - 14s 71ms/step - loss: 1.6025 - acc: 0.4084 - val_loss: 1.6154 - val_acc: 0.3750\n",
            "Epoch 5/30\n",
            "195/195 [==============================] - 14s 71ms/step - loss: 1.5420 - acc: 0.4301 - val_loss: 1.6334 - val_acc: 0.4271\n",
            "Epoch 6/30\n",
            "195/195 [==============================] - 14s 70ms/step - loss: 1.4870 - acc: 0.4503 - val_loss: 1.6717 - val_acc: 0.3906\n",
            "Epoch 7/30\n",
            "195/195 [==============================] - 14s 70ms/step - loss: 1.4292 - acc: 0.4748 - val_loss: 1.4059 - val_acc: 0.4740\n",
            "Epoch 8/30\n",
            "195/195 [==============================] - 14s 70ms/step - loss: 1.4027 - acc: 0.4886 - val_loss: 1.4017 - val_acc: 0.4948\n",
            "Epoch 9/30\n",
            "195/195 [==============================] - 14s 71ms/step - loss: 1.3516 - acc: 0.5091 - val_loss: 1.3970 - val_acc: 0.4688\n",
            "Epoch 10/30\n",
            "195/195 [==============================] - 14s 70ms/step - loss: 1.3246 - acc: 0.5213 - val_loss: 1.3692 - val_acc: 0.5000\n",
            "Epoch 11/30\n",
            "195/195 [==============================] - 14s 71ms/step - loss: 1.3053 - acc: 0.5309 - val_loss: 1.3995 - val_acc: 0.4740\n",
            "Epoch 12/30\n",
            "195/195 [==============================] - 14s 71ms/step - loss: 1.2656 - acc: 0.5441 - val_loss: 1.3151 - val_acc: 0.4635\n",
            "Epoch 13/30\n",
            "195/195 [==============================] - 14s 71ms/step - loss: 1.2555 - acc: 0.5536 - val_loss: 1.2826 - val_acc: 0.5417\n",
            "Epoch 14/30\n",
            "195/195 [==============================] - 14s 70ms/step - loss: 1.2317 - acc: 0.5611 - val_loss: 1.2155 - val_acc: 0.5156\n",
            "Epoch 15/30\n",
            "195/195 [==============================] - 14s 70ms/step - loss: 1.2129 - acc: 0.5636 - val_loss: 1.2447 - val_acc: 0.5260\n",
            "Epoch 16/30\n",
            "195/195 [==============================] - 14s 72ms/step - loss: 1.1948 - acc: 0.5721 - val_loss: 1.2495 - val_acc: 0.5000\n",
            "Epoch 17/30\n",
            "195/195 [==============================] - 14s 73ms/step - loss: 1.1547 - acc: 0.5885 - val_loss: 1.2452 - val_acc: 0.5104\n",
            "Epoch 18/30\n",
            "195/195 [==============================] - 14s 73ms/step - loss: 1.1675 - acc: 0.5825 - val_loss: 1.1324 - val_acc: 0.5677\n",
            "Epoch 19/30\n",
            "195/195 [==============================] - 14s 72ms/step - loss: 1.1557 - acc: 0.5878 - val_loss: 1.0553 - val_acc: 0.5625\n",
            "Epoch 20/30\n",
            "195/195 [==============================] - 14s 72ms/step - loss: 1.1141 - acc: 0.5999 - val_loss: 1.0901 - val_acc: 0.5573\n",
            "Epoch 21/30\n",
            "195/195 [==============================] - 14s 73ms/step - loss: 1.1112 - acc: 0.5997 - val_loss: 1.1333 - val_acc: 0.5833\n",
            "Epoch 22/30\n",
            "195/195 [==============================] - 14s 73ms/step - loss: 1.0848 - acc: 0.6090 - val_loss: 1.1534 - val_acc: 0.5417\n",
            "Epoch 23/30\n",
            "195/195 [==============================] - 14s 73ms/step - loss: 1.0639 - acc: 0.6201 - val_loss: 1.0795 - val_acc: 0.6042\n",
            "Epoch 24/30\n",
            "195/195 [==============================] - 14s 73ms/step - loss: 1.0390 - acc: 0.6320 - val_loss: 1.1414 - val_acc: 0.5885\n",
            "Epoch 25/30\n",
            "195/195 [==============================] - 14s 73ms/step - loss: 1.0472 - acc: 0.6250 - val_loss: 1.0370 - val_acc: 0.5625\n",
            "Epoch 26/30\n",
            "195/195 [==============================] - 14s 73ms/step - loss: 1.0234 - acc: 0.6381 - val_loss: 1.0792 - val_acc: 0.5990\n",
            "Epoch 27/30\n",
            "195/195 [==============================] - 14s 73ms/step - loss: 1.0133 - acc: 0.6420 - val_loss: 1.0543 - val_acc: 0.5990\n",
            "Epoch 28/30\n",
            "195/195 [==============================] - 14s 73ms/step - loss: 1.0043 - acc: 0.6375 - val_loss: 1.3137 - val_acc: 0.5521\n",
            "Epoch 29/30\n",
            "195/195 [==============================] - 14s 73ms/step - loss: 0.9769 - acc: 0.6580 - val_loss: 0.9961 - val_acc: 0.6458\n",
            "Epoch 30/30\n",
            "195/195 [==============================] - 14s 73ms/step - loss: 0.9709 - acc: 0.6566 - val_loss: 1.0479 - val_acc: 0.6562\n"
          ],
          "name": "stdout"
        }
      ]
    },
    {
      "cell_type": "code",
      "metadata": {
        "id": "Zn90T1zSDO2S",
        "colab_type": "code",
        "colab": {
          "base_uri": "https://localhost:8080/",
          "height": 295
        },
        "outputId": "5bcebebd-3253-41c0-827f-a92f9cc0f960"
      },
      "source": [
        "#Plotting the accuracy during training\n",
        "plt.plot(history.history['acc'])\n",
        "plt.plot(history.history['val_acc'])\n",
        "plt.title('ResNet accuracy')\n",
        "plt.ylabel('accuracy')\n",
        "plt.xlabel('epoch')\n",
        "plt.legend(['train', 'test'], loc='lower right')\n",
        "plt.show()"
      ],
      "execution_count": 28,
      "outputs": [
        {
          "output_type": "display_data",
          "data": {
            "text/plain": [
              "<Figure size 432x288 with 1 Axes>"
            ],
            "image/png": "[encoded data removed]"
          },
          "metadata": {
            "tags": [],
            "needs_background": "light"
          }
        }
      ]
    },
    {
      "cell_type": "code",
      "metadata": {
        "id": "jCZZY3IpPdn5",
        "colab_type": "code",
        "colab": {
          "base_uri": "https://localhost:8080/",
          "height": 55
        },
        "outputId": "d834fef4-1274-4994-fbd9-9aa6a4cc4cf2"
      },
      "source": [
        "results = model.evaluate(test_dataset, steps=5000)\n",
        "print('test loss, test acc:', results)"
      ],
      "execution_count": 29,
      "outputs": [
        {
          "output_type": "stream",
          "text": [
            "5000/5000 [==============================] - 109s 22ms/step - loss: 1.1172 - acc: 0.6232\n",
            "test loss, test acc: [1.1172353029251099, 0.6232343912124634]\n"
          ],
          "name": "stdout"
        }
      ]
    },
    {
      "cell_type": "code",
      "metadata": {
        "id": "D2_-NIVXP9dE",
        "colab_type": "code",
        "colab": {}
      },
      "source": [
        ""
      ],
      "execution_count": null,
      "outputs": []
    }
  ]
}