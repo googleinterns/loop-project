{
  "nbformat": 4,
  "nbformat_minor": 0,
  "metadata": {
    "colab": {
      "name": "basic_resnet_with_custom_block.ipynb",
      "provenance": [],
      "collapsed_sections": [],
      "toc_visible": true
    },
    "kernelspec": {
      "name": "python3",
      "display_name": "Python 3"
    },
    "accelerator": "GPU"
  },
  "cells": [
    {
      "cell_type": "code",
      "metadata": {
        "id": "2uWMNl4kFadc",
        "colab_type": "code",
        "colab": {}
      },
      "source": [
        "import tensorflow as tf\n",
        "from tensorflow import keras\n",
        "from tensorflow.keras import layers\n",
        "import datetime as dt\n",
        "import numpy as np\n",
        "import matplotlib.pyplot as plt"
      ],
      "execution_count": 0,
      "outputs": []
    },
    {
      "cell_type": "code",
      "metadata": {
        "id": "1bdX8oN4OC3b",
        "colab_type": "code",
        "outputId": "dc8e1f9b-48cb-41bb-dec9-785d65726ddb",
        "colab": {
          "base_uri": "https://localhost:8080/",
          "height": 36
        }
      },
      "source": [
        "print(tf.config.list_physical_devices('GPU'))"
      ],
      "execution_count": 0,
      "outputs": [
        {
          "output_type": "stream",
          "text": [
            "[PhysicalDevice(name='/physical_device:GPU:0', device_type='GPU')]\n"
          ],
          "name": "stdout"
        }
      ]
    },
    {
      "cell_type": "markdown",
      "metadata": {
        "id": "3uLq_s8o_7kJ",
        "colab_type": "text"
      },
      "source": [
        "# Custom residual block \n",
        "This code is based on the Tensorflow [tutorial](https://www.tensorflow.org/tutorials/customization/custom_layers)."
      ]
    },
    {
      "cell_type": "code",
      "metadata": {
        "id": "WflHFfc4ODww",
        "colab_type": "code",
        "colab": {}
      },
      "source": [
        "\n",
        "class ResBlock(tf.keras.Model):\n",
        "  \"\"\" A ResBlock module class with expansion, depthwise consolution and \n",
        "  projection.\n",
        "\n",
        "  In this ResBlock, standard 2D convolutions are replaced by 1x1 convolution \n",
        "  that expands the input tensor along the channel dimension, depthwise\n",
        "  convolution and 1x1 convolution that projects the tensor back to the original\n",
        "  number of channels.\n",
        "\n",
        "   Args: \n",
        "     kernel_size: size of the depthwise convolution kernel\n",
        "     expansion_factor: expansion factor of the first 1x1 convolution. \n",
        "     e.g., if the input tensor has N channels, then the first 1x1 \n",
        "     convolution layer will expand it to expansion_factor*N channels.\n",
        "     activation: activation function. Supported functions: 'relu',\n",
        "     'relu6', 'lrelu', 'swish'.\"\"\"\n",
        "\n",
        "  def __init__(self, kernel_size=3, expansion_factor=6, activation='relu'):\n",
        "    super(ResBlock, self).__init__(name='')\n",
        "    if expansion_factor < 1:\n",
        "      raise ValueError('The expansion factor value should be '\n",
        "      'greater than or equal to one.')\n",
        "\n",
        "    self.expansion_factor = expansion_factor\n",
        "    self.activation = self.set_activation_fn(activation)\n",
        "    self.kernel_size = kernel_size\n",
        "\n",
        "  def build(self, input_shape):\n",
        "    input_channel = input_shape[-1]\n",
        "    self.expanded_channel = input_channel*self.expansion_factor\n",
        "    self.conv1 = tf.keras.layers.Conv2D(self.expanded_channel, kernel_size=1,\n",
        "                                        strides=(1, 1), padding='same')\n",
        "    self.bn1 = tf.keras.layers.BatchNormalization() \n",
        "    self.conv2 = tf.keras.layers.DepthwiseConv2D(kernel_size=self.kernel_size,\n",
        "                                                 strides=(1, 1), padding='same')\n",
        "    self.bn2 = tf.keras.layers.BatchNormalization()\n",
        "    self.conv3 = tf.keras.layers.Conv2D(input_channel, kernel_size=1,\n",
        "                                        strides=(1, 1), padding='same')\n",
        "    self.bn3 = tf.keras.layers.BatchNormalization()\n",
        "\n",
        "  def call(self, input_tensor, training=True):\n",
        "    x = self.conv1(input_tensor)\n",
        "    x = self.bn1(x, training=training)\n",
        "    x = self.activation(x)\n",
        "\n",
        "    x = self.conv2(x)\n",
        "    x = self.bn2(x, training=training)\n",
        "    x = self.activation(x)\n",
        "\n",
        "    x = self.conv3(x)\n",
        "    x = self.bn3(x, training=training)\n",
        "    x += input_tensor\n",
        "    return self.activation(x)\n",
        "\n",
        "\n",
        "  def set_activation_fn(self, activation):\n",
        "    switcher = {'relu': tf.nn.relu,\n",
        "                'relu6': tf.nn.relu6,\n",
        "                'lrelu': tf.nn.leaky_relu,\n",
        "                'swish': tf.nn.swish,\n",
        "                }\n",
        "    \n",
        "    res = switcher.get(activation)\n",
        "    if not res:\n",
        "      raise Exception(\"Given activation function is not supported.\")\n",
        "\n",
        "    return res\n",
        "\n",
        "  def _get_input_channel(self, input_shape):\n",
        "    if input_shape.dims[-1].value is None:\n",
        "      raise ValueError('The channel dimension of the inputs '\n",
        "                       'should be defined. Found `None`.')\n",
        "    return int(input_shape[-1])\n"
      ],
      "execution_count": 0,
      "outputs": []
    },
    {
      "cell_type": "markdown",
      "metadata": {
        "id": "nWC4-uW2jdwy",
        "colab_type": "text"
      },
      "source": [
        "# Testing"
      ]
    },
    {
      "cell_type": "code",
      "metadata": {
        "id": "5iY7K9J5kUBy",
        "colab_type": "code",
        "colab": {}
      },
      "source": [
        "import unittest"
      ],
      "execution_count": 0,
      "outputs": []
    },
    {
      "cell_type": "code",
      "metadata": {
        "id": "Z4ajTTDzPAQE",
        "colab_type": "code",
        "colab": {}
      },
      "source": [
        "class BlockTest(tf.test.TestCase):\n",
        "  def setUp(self):\n",
        "    super(BlockTest, self).setUp()\n",
        "\n",
        "  def _run_standard_block(self, input_tensor):\n",
        "    block = ResBlock(kernel_size=3, expansion_factor=6, activation='relu')\n",
        "    block.build(tf.shape(input_tensor))\n",
        "    return block(input_tensor)\n",
        "    \n",
        "  def test_basic(self):\n",
        "    \"\"\"Checking if the input and output tensors shapes match.\"\"\"\n",
        "    input_shape = (32, 128, 128, 64)\n",
        "    input_val = tf.random.normal([*input_shape])\n",
        "    out = self._run_standard_block(input_val)\n",
        "    self.assertShapeEqual(input_val.numpy(), out)\n",
        "\n",
        "  def test_standard_input(self):\n",
        "    \"\"\"Checking that input / output shapes match on input (8, 16, 16, 40).\"\"\"\n",
        "    input_shape = (8, 16, 16, 40)\n",
        "    input_val = tf.random.normal([*input_shape])\n",
        "    out = self._run_standard_block(input_val)\n",
        "    self.assertShapeEqual(input_val.numpy(), out)\n",
        "\n",
        "  def test_expansion_wrong_val(self):\n",
        "    with self.assertRaises(AssertionError):\n",
        "      block = ResBlock(kernel_size=3, expansion_factor=0, activation='relu')\n",
        "    \n",
        "\n",
        "  def test_zeros_input(self):\n",
        "    input_shape = (8, 16, 16, 40)\n",
        "    input_val = tf.zeros([*input_shape])\n",
        "    out = self._run_standard_block(input_val)\n",
        "    self.assertAllEqual(input_val, out)\n",
        "  \n",
        "  def test_wrong_activation(self):\n",
        "    with self.assertRaises(Exception):\n",
        "      block = ResBlock(kernel_size=3, expansion_factor=6, activation='sigmoid')\n",
        "    "
      ],
      "execution_count": 0,
      "outputs": []
    },
    {
      "cell_type": "code",
      "metadata": {
        "id": "ereCU9NgkTcw",
        "colab_type": "code",
        "outputId": "58758876-840d-43ce-8324-53d93535bf2e",
        "colab": {
          "base_uri": "https://localhost:8080/",
          "height": 111
        }
      },
      "source": [
        "if __name__ == '__main__':\n",
        "    unittest.main(argv=['first-arg-is-ignored'], exit=False)"
      ],
      "execution_count": 0,
      "outputs": [
        {
          "output_type": "stream",
          "text": [
            "..s...\n",
            "----------------------------------------------------------------------\n",
            "Ran 6 tests in 0.747s\n",
            "\n",
            "OK (skipped=1)\n"
          ],
          "name": "stderr"
        }
      ]
    },
    {
      "cell_type": "markdown",
      "metadata": {
        "id": "WgnLRR7ckpES",
        "colab_type": "text"
      },
      "source": [
        "# Preparing the data\n"
      ]
    },
    {
      "cell_type": "code",
      "metadata": {
        "id": "_KGmW7-HH_o9",
        "colab_type": "code",
        "colab": {}
      },
      "source": [
        "h, w, c = (32, 32, 3)\n",
        "BATCH_SIZE = 64"
      ],
      "execution_count": 0,
      "outputs": []
    },
    {
      "cell_type": "code",
      "metadata": {
        "id": "Ci_z1g3q6xOR",
        "colab_type": "code",
        "colab": {}
      },
      "source": [
        "(x_train, y_train), (x_test, y_test) = tf.keras.datasets.cifar10.load_data()"
      ],
      "execution_count": 0,
      "outputs": []
    },
    {
      "cell_type": "code",
      "metadata": {
        "id": "SgMtc62-IEOr",
        "colab_type": "code",
        "outputId": "672347c5-2b72-4a24-a57d-11526df1fae0",
        "colab": {
          "base_uri": "https://localhost:8080/",
          "height": 36
        }
      },
      "source": [
        "train_dataset = (tf.data.Dataset.from_tensor_slices((x_train, y_train))\n",
        "                  .batch(BATCH_SIZE, drop_remainder=True)\n",
        "                  .shuffle(buffer_size=50000)).repeat()\n",
        "test_dataset = (tf.data.Dataset.from_tensor_slices((x_test, y_test))\n",
        "                  .batch(BATCH_SIZE, drop_remainder=True)).repeat()\n",
        "\n",
        "for image, label in test_dataset.take(1):\n",
        "    print(image.shape, label.shape)"
      ],
      "execution_count": 0,
      "outputs": [
        {
          "output_type": "stream",
          "text": [
            "(64, 32, 32, 3) (64, 1)\n"
          ],
          "name": "stdout"
        }
      ]
    },
    {
      "cell_type": "code",
      "metadata": {
        "id": "TWUlcnBEHTAs",
        "colab_type": "code",
        "colab": {}
      },
      "source": [
        "def normalize(x, y):\n",
        "  x = tf.image.per_image_standardization(x)\n",
        "  return x, y\n",
        "\n",
        "def augment(x, y):\n",
        "    x = tf.image.resize_with_crop_or_pad(x, h + 8, w + 8)\n",
        "    x = tf.image.random_crop(x, [BATCH_SIZE, h, w, c])\n",
        "    x = tf.image.random_flip_left_right(x)\n",
        "    x = tf.image.random_brightness(x, max_delta=0.5)\n",
        "    return x, y\n",
        "\n",
        "\n",
        "test_dataset = test_dataset.map(normalize)\n",
        "train_dataset = (train_dataset\n",
        "                 .map(augment)\n",
        "                 .map(normalize))"
      ],
      "execution_count": 0,
      "outputs": []
    },
    {
      "cell_type": "markdown",
      "metadata": {
        "id": "Oo7urP7cJ0GH",
        "colab_type": "text"
      },
      "source": [
        "# Creating and training the model"
      ]
    },
    {
      "cell_type": "code",
      "metadata": {
        "id": "pB1LkgtWJuDj",
        "colab_type": "code",
        "colab": {}
      },
      "source": [
        "num_res_blocks = 10"
      ],
      "execution_count": 0,
      "outputs": []
    },
    {
      "cell_type": "code",
      "metadata": {
        "id": "1BV3qVGcIa1q",
        "colab_type": "code",
        "colab": {}
      },
      "source": [
        "inputs = keras.Input(shape=(h, w, c))\n",
        "x = layers.Conv2D(64, 7, activation='swish')(inputs)\n",
        "x = layers.MaxPooling2D(pool_size=(2, 2))(x)\n",
        "\n",
        "for i in range(num_res_blocks):\n",
        "    x = ResBlock(kernel_size=3, \n",
        "                expansion_factor=6,\n",
        "                activation='swish')(x)\n",
        "x = layers.Conv2D(64, 3, activation='swish')(x)\n",
        "x = layers.GlobalAveragePooling2D()(x)\n",
        "x = layers.Dense(256, activation='swish')(x)\n",
        "x = layers.Dropout(0.3)(x)\n",
        "outputs = layers.Dense(10, activation='softmax')(x)\n",
        "\n",
        "model = keras.Model(inputs, outputs)"
      ],
      "execution_count": 0,
      "outputs": []
    },
    {
      "cell_type": "code",
      "metadata": {
        "id": "HvuqLd84zmdS",
        "colab_type": "code",
        "outputId": "78b9db8f-fbf5-4436-c279-24a1dc5e5fc1",
        "colab": {
          "base_uri": "https://localhost:8080/",
          "height": 839
        }
      },
      "source": [
        "model.summary()"
      ],
      "execution_count": 0,
      "outputs": [
        {
          "output_type": "stream",
          "text": [
            "Model: \"model\"\n",
            "_________________________________________________________________\n",
            "Layer (type)                 Output Shape              Param #   \n",
            "=================================================================\n",
            "input_4 (InputLayer)         [(None, 32, 32, 3)]       0         \n",
            "_________________________________________________________________\n",
            "conv2d_4 (Conv2D)            (None, 26, 26, 64)        9472      \n",
            "_________________________________________________________________\n",
            "max_pooling2d (MaxPooling2D) (None, 13, 13, 64)        0         \n",
            "_________________________________________________________________\n",
            "res_block_1 (ResBlock)       (None, 13, 13, 64)        56768     \n",
            "_________________________________________________________________\n",
            "res_block_2 (ResBlock)       (None, 13, 13, 64)        56768     \n",
            "_________________________________________________________________\n",
            "res_block_3 (ResBlock)       (None, 13, 13, 64)        56768     \n",
            "_________________________________________________________________\n",
            "res_block_4 (ResBlock)       (None, 13, 13, 64)        56768     \n",
            "_________________________________________________________________\n",
            "res_block_5 (ResBlock)       (None, 13, 13, 64)        56768     \n",
            "_________________________________________________________________\n",
            "res_block_6 (ResBlock)       (None, 13, 13, 64)        56768     \n",
            "_________________________________________________________________\n",
            "res_block_7 (ResBlock)       (None, 13, 13, 64)        56768     \n",
            "_________________________________________________________________\n",
            "res_block_8 (ResBlock)       (None, 13, 13, 64)        56768     \n",
            "_________________________________________________________________\n",
            "res_block_9 (ResBlock)       (None, 13, 13, 64)        56768     \n",
            "_________________________________________________________________\n",
            "res_block_10 (ResBlock)      (None, 13, 13, 64)        56768     \n",
            "_________________________________________________________________\n",
            "conv2d_5 (Conv2D)            (None, 11, 11, 64)        36928     \n",
            "_________________________________________________________________\n",
            "global_average_pooling2d (Gl (None, 64)                0         \n",
            "_________________________________________________________________\n",
            "dense (Dense)                (None, 256)               16640     \n",
            "_________________________________________________________________\n",
            "dropout (Dropout)            (None, 256)               0         \n",
            "_________________________________________________________________\n",
            "dense_1 (Dense)              (None, 10)                2570      \n",
            "=================================================================\n",
            "Total params: 633,290\n",
            "Trainable params: 616,650\n",
            "Non-trainable params: 16,640\n",
            "_________________________________________________________________\n"
          ],
          "name": "stdout"
        }
      ]
    },
    {
      "cell_type": "code",
      "metadata": {
        "id": "tOiu9XH-LenN",
        "colab_type": "code",
        "outputId": "7d96bb3c-495e-4666-fa61-e1e34a683f25",
        "colab": {
          "base_uri": "https://localhost:8080/",
          "height": 1000
        }
      },
      "source": [
        "callbacks = [\n",
        "  (keras.callbacks.TensorBoard(log_dir='./log/{}'\n",
        "                              .format(dt.datetime.now()\n",
        "                              .strftime(\"%Y-%m-%d-%H-%M-%S\")),\n",
        "                               write_images=True)),\n",
        "]\n",
        "model.compile(optimizer=keras.optimizers.Adam(),\n",
        "              loss='sparse_categorical_crossentropy',\n",
        "              metrics=['acc'])\n",
        "history = model.fit(train_dataset, epochs=30,\n",
        "                    steps_per_epoch=195,\n",
        "                    validation_data=test_dataset,\n",
        "                    validation_steps=3,\n",
        "                    callbacks=callbacks)"
      ],
      "execution_count": 0,
      "outputs": [
        {
          "output_type": "stream",
          "text": [
            "WARNING:tensorflow:Model failed to serialize as JSON. Ignoring... \n",
            "Epoch 1/30\n",
            "  2/195 [..............................] - ETA: 42s - loss: 23.9360 - acc: 0.1484WARNING:tensorflow:Method (on_train_batch_end) is slow compared to the batch update (0.182526). Check your callbacks.\n",
            "195/195 [==============================] - 14s 73ms/step - loss: 2.4265 - acc: 0.2500 - val_loss: 1.9777 - val_acc: 0.2812\n",
            "Epoch 2/30\n",
            "195/195 [==============================] - 13s 67ms/step - loss: 1.7411 - acc: 0.3544 - val_loss: 1.8597 - val_acc: 0.2396\n",
            "Epoch 3/30\n",
            "195/195 [==============================] - 13s 66ms/step - loss: 1.6412 - acc: 0.3928 - val_loss: 1.6285 - val_acc: 0.3958\n",
            "Epoch 4/30\n",
            "195/195 [==============================] - 13s 65ms/step - loss: 1.5678 - acc: 0.4320 - val_loss: 1.5652 - val_acc: 0.4062\n",
            "Epoch 5/30\n",
            "195/195 [==============================] - 13s 67ms/step - loss: 1.5237 - acc: 0.4443 - val_loss: 1.5617 - val_acc: 0.4062\n",
            "Epoch 6/30\n",
            "195/195 [==============================] - 13s 66ms/step - loss: 1.4865 - acc: 0.4634 - val_loss: 1.4791 - val_acc: 0.4635\n",
            "Epoch 7/30\n",
            "195/195 [==============================] - 13s 66ms/step - loss: 1.4352 - acc: 0.4808 - val_loss: 1.6119 - val_acc: 0.4219\n",
            "Epoch 8/30\n",
            "195/195 [==============================] - 13s 65ms/step - loss: 1.4131 - acc: 0.4859 - val_loss: 1.5859 - val_acc: 0.3594\n",
            "Epoch 9/30\n",
            "195/195 [==============================] - 13s 65ms/step - loss: 1.3927 - acc: 0.4997 - val_loss: 1.6608 - val_acc: 0.4271\n",
            "Epoch 10/30\n",
            "195/195 [==============================] - 13s 66ms/step - loss: 1.3711 - acc: 0.5020 - val_loss: 1.2866 - val_acc: 0.5104\n",
            "Epoch 11/30\n",
            "195/195 [==============================] - 13s 66ms/step - loss: 1.3466 - acc: 0.5142 - val_loss: 1.3169 - val_acc: 0.4740\n",
            "Epoch 12/30\n",
            "195/195 [==============================] - 13s 66ms/step - loss: 1.3223 - acc: 0.5286 - val_loss: 1.4100 - val_acc: 0.4740\n",
            "Epoch 13/30\n",
            "195/195 [==============================] - 13s 67ms/step - loss: 1.3000 - acc: 0.5313 - val_loss: 1.2898 - val_acc: 0.5156\n",
            "Epoch 14/30\n",
            "195/195 [==============================] - 13s 65ms/step - loss: 1.2881 - acc: 0.5391 - val_loss: 1.4874 - val_acc: 0.4688\n",
            "Epoch 15/30\n",
            "195/195 [==============================] - 13s 66ms/step - loss: 1.2785 - acc: 0.5377 - val_loss: 1.3066 - val_acc: 0.4948\n",
            "Epoch 16/30\n",
            "195/195 [==============================] - 13s 66ms/step - loss: 1.2775 - acc: 0.5416 - val_loss: 1.1979 - val_acc: 0.5781\n",
            "Epoch 17/30\n",
            "195/195 [==============================] - 13s 67ms/step - loss: 1.2432 - acc: 0.5545 - val_loss: 1.4340 - val_acc: 0.4792\n",
            "Epoch 18/30\n",
            "195/195 [==============================] - 13s 66ms/step - loss: 1.2249 - acc: 0.5581 - val_loss: 1.1987 - val_acc: 0.5417\n",
            "Epoch 19/30\n",
            "195/195 [==============================] - 13s 65ms/step - loss: 1.2165 - acc: 0.5683 - val_loss: 1.1877 - val_acc: 0.5521\n",
            "Epoch 20/30\n",
            "195/195 [==============================] - 13s 67ms/step - loss: 1.2088 - acc: 0.5746 - val_loss: 1.1515 - val_acc: 0.5729\n",
            "Epoch 21/30\n",
            "195/195 [==============================] - 13s 67ms/step - loss: 1.2059 - acc: 0.5723 - val_loss: 1.4835 - val_acc: 0.4948\n",
            "Epoch 22/30\n",
            "195/195 [==============================] - 13s 66ms/step - loss: 1.1628 - acc: 0.5880 - val_loss: 1.3074 - val_acc: 0.5312\n",
            "Epoch 23/30\n",
            "195/195 [==============================] - 13s 66ms/step - loss: 1.1587 - acc: 0.5910 - val_loss: 1.1866 - val_acc: 0.5573\n",
            "Epoch 24/30\n",
            "195/195 [==============================] - 13s 65ms/step - loss: 1.1318 - acc: 0.5994 - val_loss: 1.0435 - val_acc: 0.6146\n",
            "Epoch 25/30\n",
            "195/195 [==============================] - 13s 67ms/step - loss: 1.1455 - acc: 0.5912 - val_loss: 1.1892 - val_acc: 0.5990\n",
            "Epoch 26/30\n",
            "195/195 [==============================] - 13s 66ms/step - loss: 1.1319 - acc: 0.6015 - val_loss: 1.0217 - val_acc: 0.6354\n",
            "Epoch 27/30\n",
            "195/195 [==============================] - 13s 66ms/step - loss: 1.1344 - acc: 0.5975 - val_loss: 1.1790 - val_acc: 0.5625\n",
            "Epoch 28/30\n",
            "195/195 [==============================] - 13s 66ms/step - loss: 1.0997 - acc: 0.6160 - val_loss: 1.1034 - val_acc: 0.6146\n",
            "Epoch 29/30\n",
            "195/195 [==============================] - 13s 66ms/step - loss: 1.0808 - acc: 0.6181 - val_loss: 1.1510 - val_acc: 0.5938\n",
            "Epoch 30/30\n",
            "  1/195 [..............................] - ETA: 0s - loss: 1.0256 - acc: 0.6562WARNING:tensorflow:Method (on_train_batch_end) is slow compared to the batch update (0.152865). Check your callbacks.\n",
            "195/195 [==============================] - 13s 65ms/step - loss: 1.0803 - acc: 0.6155 - val_loss: 1.1433 - val_acc: 0.5677\n"
          ],
          "name": "stdout"
        }
      ]
    },
    {
      "cell_type": "code",
      "metadata": {
        "id": "2Qgv2u0Efypx",
        "colab_type": "code",
        "outputId": "9d246e6b-1b5e-4f38-dd56-ac36a7b1f9ca",
        "colab": {
          "base_uri": "https://localhost:8080/",
          "height": 295
        }
      },
      "source": [
        "#Plotting the accuracy during training\n",
        "plt.plot(history.history['acc'])\n",
        "plt.plot(history.history['val_acc'])\n",
        "plt.title('ResNet accuracy')\n",
        "plt.ylabel('accuracy')\n",
        "plt.xlabel('epoch')\n",
        "plt.legend(['train', 'test'], loc='lower right')\n",
        "plt.show()"
      ],
      "execution_count": 0,
      "outputs": [
        {
          "output_type": "display_data",
          "data": {
            "text/plain": [
              "<Figure size 432x288 with 1 Axes>"
            ],
            "image/png": "[encoded data removed]"
          },
          "metadata": {
            "tags": [],
            "needs_background": "light"
          }
        }
      ]
    },
    {
      "cell_type": "code",
      "metadata": {
        "id": "g6bxF0OHgnVA",
        "colab_type": "code",
        "outputId": "48ed048c-83ef-424c-cb61-cb947e895230",
        "colab": {
          "base_uri": "https://localhost:8080/",
          "height": 55
        }
      },
      "source": [
        "results = model.evaluate(test_dataset, steps=5000)\n",
        "print('test loss, test acc:', results)"
      ],
      "execution_count": 0,
      "outputs": [
        {
          "output_type": "stream",
          "text": [
            "5000/5000 [==============================] - 91s 18ms/step - loss: 1.0649 - acc: 0.6289\n",
            "test loss, test acc: [1.0649089813232422, 0.6288843750953674]\n"
          ],
          "name": "stdout"
        }
      ]
    },
    {
      "cell_type": "markdown",
      "metadata": {
        "id": "fMcBWUO23qYw",
        "colab_type": "text"
      },
      "source": [
        ""
      ]
    }
  ]
}