{
  "nbformat": 4,
  "nbformat_minor": 0,
  "metadata": {
    "colab": {
      "name": "IO_adapters.ipynb",
      "provenance": [],
      "collapsed_sections": []
    },
    "kernelspec": {
      "name": "python3",
      "display_name": "Python 3"
    }
  },
  "cells": [
    {
      "cell_type": "code",
      "metadata": {
        "id": "LVLE6fzffmJk",
        "colab_type": "code",
        "colab": {}
      },
      "source": [
        "import tensorflow as tf\n",
        "from tensorflow import keras\n",
        "from tensorflow.keras import layers\n",
        "\n",
        "import numpy as np\n",
        "import unittest"
      ],
      "execution_count": 19,
      "outputs": []
    },
    {
      "cell_type": "markdown",
      "metadata": {
        "id": "EYCSozXYhIvR",
        "colab_type": "text"
      },
      "source": [
        "# Input adapter\n",
        "This model transforms the input image into tenfor of desired shape (in our setup 16x16x40)."
      ]
    },
    {
      "cell_type": "code",
      "metadata": {
        "id": "nJlxo9f7f5BP",
        "colab_type": "code",
        "colab": {}
      },
      "source": [
        "def create_input_adapter(input_shape, size=16, depth=40, activation=None):\n",
        "  \"\"\"Creates an input adapter module for the input image.\n",
        "  The input adapter transforms input image of given shape \n",
        "  into a tensor of target shape.\n",
        "\n",
        "  Arguments: \n",
        "    input_shape: shape of input image (HxWxC). Image width and height \n",
        "      must be devidible by size. H*W*C must be less than or equal\n",
        "      to size*size*depth.\n",
        "    size: height and width of the output tensor after space2depth operation. \n",
        "    depth: number of channels in the output tensor.\n",
        "    activation: conv layer activation function.\"\"\"\n",
        "  h, w, c = input_shape\n",
        "  if h < size or w < size:\n",
        "    raise ValueError('Input height and width should be greater than `size`.')\n",
        "  # `block_size` of space2depth\n",
        "  block_size = min(h / size, w / size)\n",
        "  if depth % (block_size * block_size) != 0:\n",
        "    raise ValueError('depth value is not devisible by the computed block size') \n",
        "  \n",
        "  # creating an adapter model\n",
        "  inputs = keras.Input(shape=input_shape)\n",
        "  s2d = tf.nn.space_to_depth(inputs, block_size)\n",
        "  outputs = layers.Conv2D(filters=depth,\n",
        "                          kernel_size=1, activation=activation)(s2d)\n",
        "  model = keras.Model(inputs, outputs, name='in_adapter')\n",
        "  return model"
      ],
      "execution_count": 20,
      "outputs": []
    },
    {
      "cell_type": "markdown",
      "metadata": {
        "id": "AomVWLNQRth_",
        "colab_type": "text"
      },
      "source": [
        "# Output adapter"
      ]
    },
    {
      "cell_type": "code",
      "metadata": {
        "id": "299hzdXmRsiC",
        "colab_type": "code",
        "colab": {}
      },
      "source": [
        "def create_output_adapter(input_shape, block_size=None, pool_stride=None,\n",
        "                        activation='swish', depthwise=True):\n",
        "  \"\"\" Creates an output adapter module that processes tensors before \n",
        "  passing them to fully connected layers.\n",
        "  Arguments: \n",
        "    input_shape: shape of the input tensor (HxWxC).\n",
        "    block_size: tensor height and width after average pooling. Default \n",
        "    value is 4.\n",
        "    pool_stride: stride of average pooling.\n",
        "    activation: activation function.\n",
        "    depthwise: whether to use depthwise convolution.\"\"\"\n",
        "  if not block_size: \n",
        "    block_size = 4\n",
        "  \n",
        "  if not isinstance(block_size, int) or block_size < 1:\n",
        "    raise ValueError(\"block_size must be a positive integer.\")\n",
        "\n",
        "  if pool_stride != None and (not isinstance(pool_stride, int) or\n",
        "                              pool_stride < 1):\n",
        "    raise ValueError(\"pool_stride be a positive integer or None.\")\n",
        "  \n",
        "  if len(input_shape) != 3:\n",
        "    raise ValueError(\"input_shape must be a tuple of size 3.\")\n",
        "\n",
        "  h, w, _ = input_shape\n",
        "  inputs = keras.Input(shape=input_shape)\n",
        "  kernel_size = (tf.round(h / block_size), tf.round(w / block_size))\n",
        "\n",
        "  x = tf.keras.layers.AveragePooling2D(pool_size=kernel_size, \n",
        "                                       strides=pool_stride,\n",
        "                                       padding='valid')(inputs)\n",
        "  if depthwise:\n",
        "    x = tf.keras.layers.DepthwiseConv2D(kernel_size=1,\n",
        "                                        activation=activation)(x)\n",
        "  else:\n",
        "    x = tf.keras.layers.Activation(activation)(x)\n",
        "\n",
        "  x = tf.keras.layers.Flatten(data_format='channels_last')(x)\n",
        "  outputs = tf.expand_dims(tf.expand_dims(x, axis=1), axis=1)\n",
        "  model = keras.Model(inputs, outputs, name='out_adapter')\n",
        "  return model"
      ],
      "execution_count": 21,
      "outputs": []
    },
    {
      "cell_type": "code",
      "metadata": {
        "id": "Lwb8x6gtr2ZJ",
        "colab_type": "code",
        "colab": {
          "base_uri": "https://localhost:8080/",
          "height": 36
        },
        "outputId": "c016ed73-228f-4289-d399-ed0f21fd42f2"
      },
      "source": [
        "input_shape = (32, 32, 40)\n",
        "input_tensor = tf.Variable(np.random.rand(32, *input_shape))\n",
        "out_adapter = create_output_adapter(input_shape, block_size=4, \n",
        "                                    depthwise=True)\n",
        "out_tensor = out_adapter(input_tensor)\n",
        "print(tf.shape(out_tensor))"
      ],
      "execution_count": 22,
      "outputs": [
        {
          "output_type": "stream",
          "text": [
            "tf.Tensor([ 32   1   1 640], shape=(4,), dtype=int32)\n"
          ],
          "name": "stdout"
        }
      ]
    },
    {
      "cell_type": "code",
      "metadata": {
        "id": "iQkdf0rczCVr",
        "colab_type": "code",
        "colab": {
          "base_uri": "https://localhost:8080/",
          "height": 391
        },
        "outputId": "58422b2c-4fac-4a8a-b815-c6b755c96db3"
      },
      "source": [
        "out_adapter.summary()"
      ],
      "execution_count": 23,
      "outputs": [
        {
          "output_type": "stream",
          "text": [
            "Model: \"out_adapter\"\n",
            "_________________________________________________________________\n",
            "Layer (type)                 Output Shape              Param #   \n",
            "=================================================================\n",
            "input_9 (InputLayer)         [(None, 32, 32, 40)]      0         \n",
            "_________________________________________________________________\n",
            "average_pooling2d (AveragePo (None, 4, 4, 40)          0         \n",
            "_________________________________________________________________\n",
            "depthwise_conv2d (DepthwiseC (None, 4, 4, 40)          80        \n",
            "_________________________________________________________________\n",
            "flatten (Flatten)            (None, 640)               0         \n",
            "_________________________________________________________________\n",
            "tf_op_layer_ExpandDims_10 (T [(None, 1, 640)]          0         \n",
            "_________________________________________________________________\n",
            "tf_op_layer_ExpandDims_11 (T [(None, 1, 1, 640)]       0         \n",
            "=================================================================\n",
            "Total params: 80\n",
            "Trainable params: 80\n",
            "Non-trainable params: 0\n",
            "_________________________________________________________________\n"
          ],
          "name": "stdout"
        }
      ]
    },
    {
      "cell_type": "markdown",
      "metadata": {
        "id": "h53EVoQyRmiU",
        "colab_type": "text"
      },
      "source": [
        "# I/O adapters tests"
      ]
    },
    {
      "cell_type": "code",
      "metadata": {
        "id": "kr7B3qXB0GYY",
        "colab_type": "code",
        "colab": {}
      },
      "source": [
        "class InputAdapterTest(tf.test.TestCase):\n",
        "  def setUp(self):\n",
        "    super(InputAdapterTest, self).setUp()\n",
        "    self.default_size = 32\n",
        "    self.default_depth = 64\n",
        "\n",
        "  # tests if the output of the adapter is of correct shape\n",
        "  def test_output_shape(self):\n",
        "    input_shape = (64, 64, 3)\n",
        "    batch_size = 16\n",
        "    expected_out_shape = (batch_size, self.default_size,\n",
        "                          self.default_size, self.default_depth)\n",
        "    adapter = self._create_default_adapter(input_shape)\n",
        "    out = adapter(np.zeros((batch_size, *input_shape)))\n",
        "    self.assertShapeEqual(np.zeros(expected_out_shape), out)\n",
        "\n",
        "  def test_small_in_shape(self):\n",
        "    input_shape = (28, 28, 3)\n",
        "    with self.assertRaises(Exception):\n",
        "      self._create_default_adapter(input_shape)\n",
        "\n",
        "  def test_non_divisible(self):\n",
        "    input_shape = (50, 50, 3)\n",
        "    with self.assertRaises(Exception):\n",
        "     self. _create_default_adapter(input_shape)\n",
        "\n",
        "  def _create_default_adapter(self, input_shape):\n",
        "    adapter = create_input_adapter(input_shape,\n",
        "                                   size=self.default_size,\n",
        "                                   depth=self.default_depth)\n",
        "    return adapter"
      ],
      "execution_count": 24,
      "outputs": []
    },
    {
      "cell_type": "code",
      "metadata": {
        "id": "sLKPWXSIwjEy",
        "colab_type": "code",
        "colab": {}
      },
      "source": [
        "class OutputAdapterTest(tf.test.TestCase):\n",
        "\n",
        "  def setUp(self):\n",
        "    super(OutputAdapterTest, self).setUp()\n",
        "    \n",
        "  def test_out_shape(self):\n",
        "    input_shape = (32, 32, 40)\n",
        "    batch = 32\n",
        "    input_tensor = tf.random.normal([batch, *input_shape])\n",
        "    block_size = 4\n",
        "    out_adapter = create_output_adapter(\n",
        "                        input_shape, block_size=block_size)\n",
        "    out = out_adapter(input_tensor)\n",
        "    expected_num_c = input_shape[2] * block_size * block_size\n",
        "    expected_out_shape = (batch, 1, 1, expected_num_c)\n",
        "    self.assertAllEqual(expected_out_shape, out.shape)\n",
        "\n",
        "  def test_bad_block_size(self):\n",
        "    input_shape = (32, 32, 40)\n",
        "    with self.assertRaises(ValueError):\n",
        "      out_adapter = create_output_adapter(\n",
        "                        input_shape, block_size= 3.5)\n",
        "  \n",
        "  def test_bad_pool_stride(self):\n",
        "    input_shape = (32, 32, 40)\n",
        "    with self.assertRaises(ValueError):\n",
        "      out_adapter = create_output_adapter(\n",
        "                        input_shape, pool_stride = '3')\n",
        "  \n",
        "  def test_bad_input_shape(self):\n",
        "    input_shape = (32, 32)\n",
        "    with self.assertRaises(ValueError):\n",
        "      out_adapter = create_output_adapter(\n",
        "                        input_shape, block_size= 4)"
      ],
      "execution_count": 25,
      "outputs": []
    },
    {
      "cell_type": "code",
      "metadata": {
        "id": "MGwT0RvYManE",
        "colab_type": "code",
        "colab": {
          "base_uri": "https://localhost:8080/",
          "height": 111
        },
        "outputId": "44c12918-21f0-459a-9c96-27e77e4e4731"
      },
      "source": [
        "if __name__ == '__main__':\n",
        "    unittest.main(argv=['first-arg-is-ignored'], exit=False)"
      ],
      "execution_count": 26,
      "outputs": [
        {
          "output_type": "stream",
          "text": [
            "..s.....s\n",
            "----------------------------------------------------------------------\n",
            "Ran 9 tests in 0.156s\n",
            "\n",
            "OK (skipped=2)\n"
          ],
          "name": "stderr"
        }
      ]
    },
    {
      "cell_type": "code",
      "metadata": {
        "id": "zOk9t5yzOJjY",
        "colab_type": "code",
        "colab": {}
      },
      "source": [
        ""
      ],
      "execution_count": null,
      "outputs": []
    }
  ]
}