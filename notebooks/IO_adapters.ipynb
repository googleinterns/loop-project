{
 "cells": [
  {
   "cell_type": "code",
   "execution_count": 0,
   "metadata": {
    "colab": {},
    "colab_type": "code",
    "id": "LVLE6fzffmJk"
   },
   "outputs": [],
   "source": [
    "import tensorflow as tf\n",
    "from tensorflow import keras\n",
    "from tensorflow.keras import layers\n",
    "\n",
    "import numpy as np\n",
    "import unittest"
   ]
  },
  {
   "cell_type": "markdown",
   "metadata": {
    "colab_type": "text",
    "id": "EYCSozXYhIvR"
   },
   "source": [
    "# Input adapter\n",
    "This model transforms the input image into tenfor of desired shape (in our setup 16x16x40)."
   ]
  },
  {
   "cell_type": "code",
   "execution_count": 0,
   "metadata": {
    "colab": {},
    "colab_type": "code",
    "id": "nJlxo9f7f5BP"
   },
   "outputs": [],
   "source": [
    "def create_input_adapter(input_shape, size=16, depth=40, activation=None):\n",
    "  \"\"\"Creates an input adapter module for the input image.\n",
    "  The input adapter transforms input image of given shape \n",
    "  into a tensor of target shape.\n",
    "\n",
    "  Arguments: \n",
    "    input_shape: shape of input image (HxWxC). Image width and height \n",
    "      must be devidible by size. H*W*C must be less than or equal\n",
    "      to size*size*depth.\n",
    "\n",
    "    size: height and width of the output tensor after space2depth operation. \n",
    "\n",
    "    depth: number of channels in the output tensor.\n",
    "\n",
    "    activation: conv layer activation function\"\"\"\n",
    "  def _get_parameters():\n",
    "    h, w, c = input_shape\n",
    "    if h % size != 0 or  w % size != 0:\n",
    "      raise ValueError('input height and width should be'\n",
    "                       'devisible by output size.')\n",
    "    num_out_pixels = size * size * depth\n",
    "    num_in_pixels = h * w * c\n",
    "    if num_in_pixels >= num_out_pixels:\n",
    "      raise ValueError(\n",
    "          'input H*W*C should not be smaller than output H*W*C.')\n",
    "\n",
    "    # `block_size` of space2depth\n",
    "    block_size = min(h / size, w / size)\n",
    "    if depth % (block_size * block_size) != 0:\n",
    "      raise ValueError('depth value is not devisible by '\n",
    "      'the computed block size')   \n",
    "    # number of 1x1 conv filters \n",
    "    num_conv_filters = depth / (block_size * block_size)\n",
    "    return num_conv_filters, block_size\n",
    "  \n",
    "  num_filters, block_size = _get_parameters()\n",
    "  \n",
    "  # creating an adapter model\n",
    "  inputs = keras.Input(shape=input_shape)\n",
    "  x = layers.Conv2D(num_filters, 1, activation=activation)(inputs)\n",
    "  outputs = tf.nn.space_to_depth(x, block_size)\n",
    "  model = keras.Model(inputs, outputs, name='in_adapter')\n",
    "  return model"
   ]
  },
  {
   "cell_type": "markdown",
   "metadata": {
    "colab_type": "text",
    "id": "AomVWLNQRth_"
   },
   "source": [
    "# Output adapter"
   ]
  },
  {
   "cell_type": "code",
   "execution_count": 0,
   "metadata": {
    "colab": {},
    "colab_type": "code",
    "id": "299hzdXmRsiC"
   },
   "outputs": [],
   "source": [
    "def create_output_adapter(input_shape, block_size=None, pool_stride=None,\n",
    "                        activation='swish', depthwise=True):\n",
    "  \"\"\" Creates an output adapter module that processes tensors before \n",
    "  passing them to fully connected layers.\n",
    "\n",
    "  Arguments: \n",
    "    input_shape: shape of the input tensor (HxWxC).\n",
    "\n",
    "    block_size: tensor height and width after average pooling. Default \n",
    "    value is 4.\n",
    "\n",
    "    pool_stride: stride of average pooling.\n",
    "    \n",
    "    activation: activation function.\n",
    "    \n",
    "    depthwise: whether to use depthwise convolution.\"\"\"\n",
    "  if not block_size: \n",
    "    block_size = 4\n",
    "  \n",
    "  if not isinstance(block_size, int) or block_size < 1:\n",
    "    raise ValueError(\"block_size must be a positive integer.\")\n",
    "\n",
    "  if pool_stride != None and (not isinstance(pool_stride, int) or\n",
    "                              pool_stride < 1):\n",
    "    raise ValueError(\"pool_stride be a positive integer or None.\")\n",
    "  \n",
    "  if len(input_shape) != 3:\n",
    "    raise ValueError(\"input_shape must be a tuple of size 3.\")\n",
    "\n",
    "  h, w, _ = input_shape\n",
    "  inputs = keras.Input(shape=input_shape)\n",
    "  kernel_size = (tf.round(h / block_size), tf.round(w / block_size))\n",
    "\n",
    "  x = tf.keras.layers.AveragePooling2D(pool_size=kernel_size, \n",
    "                                       strides=pool_stride,\n",
    "                                       padding='valid')(inputs)\n",
    "  if depthwise:\n",
    "    x = tf.keras.layers.DepthwiseConv2D(kernel_size=1,\n",
    "                                        activation=activation)(x)\n",
    "  else:\n",
    "    x = tf.keras.layers.Activation(activation)(x)\n",
    "\n",
    "  x = tf.keras.layers.Flatten(data_format='channels_last')(x)\n",
    "  outputs = tf.expand_dims(tf.expand_dims(x, axis=1), axis=1)\n",
    "  model = keras.Model(inputs, outputs, name='out_adapter')\n",
    "  return model"
   ]
  },
  {
   "cell_type": "code",
   "execution_count": 0,
   "metadata": {
    "colab": {
     "base_uri": "https://localhost:8080/",
     "height": 36
    },
    "colab_type": "code",
    "id": "Lwb8x6gtr2ZJ",
    "outputId": "ad1f3aa0-31a7-40e9-c256-3e321e76e1d0"
   },
   "outputs": [
    {
     "name": "stdout",
     "output_type": "stream",
     "text": [
      "tf.Tensor([ 32   1   1 640], shape=(4,), dtype=int32)\n"
     ]
    }
   ],
   "source": [
    "input_shape = (32, 32, 40)\n",
    "input_tensor = tf.Variable(np.random.rand(32, *input_shape))\n",
    "out_adapter = create_output_adapter(input_shape, block_size=4, \n",
    "                                    depthwise=True)\n",
    "out_tensor = out_adapter(input_tensor)\n",
    "print(tf.shape(out_tensor))\n"
   ]
  },
  {
   "cell_type": "code",
   "execution_count": 0,
   "metadata": {
    "colab": {
     "base_uri": "https://localhost:8080/",
     "height": 391
    },
    "colab_type": "code",
    "id": "iQkdf0rczCVr",
    "outputId": "623ea31c-de0f-4221-89c8-c65fb9c06f17"
   },
   "outputs": [
    {
     "name": "stdout",
     "output_type": "stream",
     "text": [
      "Model: \"out_adapter\"\n",
      "_________________________________________________________________\n",
      "Layer (type)                 Output Shape              Param #   \n",
      "=================================================================\n",
      "input_35 (InputLayer)        [(None, 32, 32, 40)]      0         \n",
      "_________________________________________________________________\n",
      "average_pooling2d_2 (Average (None, 4, 4, 40)          0         \n",
      "_________________________________________________________________\n",
      "depthwise_conv2d_1 (Depthwis (None, 4, 4, 40)          80        \n",
      "_________________________________________________________________\n",
      "flatten_2 (Flatten)          (None, 640)               0         \n",
      "_________________________________________________________________\n",
      "tf_op_layer_ExpandDims_42 (T [(None, 1, 640)]          0         \n",
      "_________________________________________________________________\n",
      "tf_op_layer_ExpandDims_43 (T [(None, 1, 1, 640)]       0         \n",
      "=================================================================\n",
      "Total params: 80\n",
      "Trainable params: 80\n",
      "Non-trainable params: 0\n",
      "_________________________________________________________________\n"
     ]
    }
   ],
   "source": [
    "out_adapter.summary()"
   ]
  },
  {
   "cell_type": "markdown",
   "metadata": {
    "colab_type": "text",
    "id": "h53EVoQyRmiU"
   },
   "source": [
    "# I/O adapters tests"
   ]
  },
  {
   "cell_type": "code",
   "execution_count": 0,
   "metadata": {
    "colab": {},
    "colab_type": "code",
    "id": "kr7B3qXB0GYY"
   },
   "outputs": [],
   "source": [
    "class InputAdapterTest(tf.test.TestCase):\n",
    "  def setUp(self):\n",
    "    super(InputAdapterTest, self).setUp()\n",
    "    self.default_size = 32\n",
    "    self.default_depth = 64\n",
    "\n",
    "  # tests if the output of the adaptes is of correct shape\n",
    "  def test_output_shape(self):\n",
    "    input_shape = (64, 64, 3)\n",
    "    batch_size = 16\n",
    "    expected_out_shape = (batch_size, self.default_size,\n",
    "                          self.default_size, self.default_depth)\n",
    "    adapter = self._create_default_adapter(input_shape)\n",
    "    out = adapter(np.zeros((batch_size, *input_shape)))\n",
    "    self.assertShapeEqual(np.zeros(expected_out_shape), out)\n",
    "\n",
    "  def test_small_out_size(self):\n",
    "    input_shape = (128, 128, 8)\n",
    "    with self.assertRaises(Exception):\n",
    "      self._create_default_adapter(input_shape)\n",
    "\n",
    "  def test_non_divisible(self):\n",
    "    input_shape = (50, 50, 3)\n",
    "    with self.assertRaises(Exception):\n",
    "     self. _create_default_adapter(input_shape)\n",
    "\n",
    "  def _create_default_adapter(self, input_shape):\n",
    "    adapter = create_input_adapter(input_shape,\n",
    "                              size=self.default_size,\n",
    "                              depth=self.default_depth)\n",
    "    return adapter\n"
   ]
  },
  {
   "cell_type": "code",
   "execution_count": 0,
   "metadata": {
    "colab": {},
    "colab_type": "code",
    "id": "sLKPWXSIwjEy"
   },
   "outputs": [],
   "source": [
    "class OutputAdapterTest(tf.test.TestCase):\n",
    "  def setUp(self):\n",
    "    super(OutputAdapterTest, self).setUp()\n",
    "    \n",
    "  def test_out_shape(self):\n",
    "    input_shape = (32, 32, 40)\n",
    "    batch = 32\n",
    "    input_tensor = tf.random.normal([batch, *input_shape])\n",
    "    block_size = 4\n",
    "    out_adapter = create_output_adapter(\n",
    "                        input_shape, block_size=block_size)\n",
    "    out = out_adapter(input_tensor)\n",
    "    expected_num_c = input_shape[2]*block_size*block_size\n",
    "    expected_out_shape = (batch, 1, 1, expected_num_c)\n",
    "    self.assertAllEqual(expected_out_shape, out.shape)\n",
    "\n",
    "  def test_bad_block_size(self):\n",
    "    input_shape = (32, 32, 40)\n",
    "    with self.assertRaises(ValueError):\n",
    "      out_adapter = create_output_adapter(\n",
    "                        input_shape, block_size=3.5)\n",
    "  \n",
    "  def test_bad_pool_stride(self):\n",
    "    input_shape = (32, 32, 40)\n",
    "    with self.assertRaises(ValueError):\n",
    "      out_adapter = create_output_adapter(\n",
    "                        input_shape, pool_stride = '3')\n",
    "  \n",
    "  def test_bad_input_shape(self):\n",
    "    input_shape = (32, 32)\n",
    "    with self.assertRaises(ValueError):\n",
    "      out_adapter = create_output_adapter(\n",
    "                        input_shape, block_size=4)"
   ]
  },
  {
   "cell_type": "code",
   "execution_count": 0,
   "metadata": {
    "colab": {
     "base_uri": "https://localhost:8080/",
     "height": 111
    },
    "colab_type": "code",
    "id": "MGwT0RvYManE",
    "outputId": "da5ec026-b547-4a51-8c86-8b9c3822130e"
   },
   "outputs": [
    {
     "name": "stderr",
     "output_type": "stream",
     "text": [
      "..s.....s\n",
      "----------------------------------------------------------------------\n",
      "Ran 9 tests in 0.132s\n",
      "\n",
      "OK (skipped=2)\n"
     ]
    }
   ],
   "source": [
    "if __name__ == '__main__':\n",
    "    unittest.main(argv=['first-arg-is-ignored'], exit=False)"
   ]
  },
  {
   "cell_type": "code",
   "execution_count": 0,
   "metadata": {
    "colab": {},
    "colab_type": "code",
    "id": "zOk9t5yzOJjY"
   },
   "outputs": [],
   "source": []
  }
 ],
 "metadata": {
  "colab": {
   "collapsed_sections": [],
   "name": "IO_adapters.ipynb",
   "provenance": []
  },
  "kernelspec": {
   "display_name": "Python 3",
   "language": "python",
   "name": "python3"
  },
  "language_info": {
   "codemirror_mode": {
    "name": "ipython",
    "version": 3
   },
   "file_extension": ".py",
   "mimetype": "text/x-python",
   "name": "python",
   "nbconvert_exporter": "python",
   "pygments_lexer": "ipython3",
   "version": "3.7.6"
  }
 },
 "nbformat": 4,
 "nbformat_minor": 1
}
